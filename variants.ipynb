{
 "cells": [
  {
   "cell_type": "code",
   "execution_count": 2,
   "metadata": {},
   "outputs": [],
   "source": [
    "import pandas as pd\n",
    "import plotly.graph_objects as go\n",
    "import matplotlib.pyplot as plt\n",
    "import seaborn as sns\n",
    "import plot_likert\n",
    "import numpy as np\n",
    "\n",
    "font = {'family' : 'Times New Roman',\n",
    "        'weight' : 'bold',\n",
    "        'size'   : 16}\n",
    "\n",
    "SAVEFIG = True\n",
    "directory = \"./figures/\"\n",
    "def _savefig(fig, name):\n",
    "    import os\n",
    "    fig.savefig(\n",
    "        os.path.join(directory, '{}.pdf'.format(name)),\n",
    "        bbox_inches='tight'\n",
    "    )\n",
    "    \n",
    "savefig = _savefig if SAVEFIG else lambda x, y: None"
   ]
  },
  {
   "cell_type": "code",
   "execution_count": 11,
   "metadata": {},
   "outputs": [
    {
     "data": {
      "text/plain": [
       "145"
      ]
     },
     "execution_count": 11,
     "metadata": {},
     "output_type": "execute_result"
    }
   ],
   "source": [
    "df = pd.read_csv('./sankey_data_final_1_decision.csv', sep=';')\n",
    "df['original_developers'] = (df['original_developers']\n",
    "                                   .replace({'cannot remember':'unknown'})\n",
    "                                  )\n",
    "df.groupby('motivation_detail').count().sort_values('decision').motivation.sum()\n"
   ]
  },
  {
   "cell_type": "code",
   "execution_count": 18,
   "metadata": {},
   "outputs": [
    {
     "data": {
      "text/html": [
       "<div>\n",
       "<style scoped>\n",
       "    .dataframe tbody tr th:only-of-type {\n",
       "        vertical-align: middle;\n",
       "    }\n",
       "\n",
       "    .dataframe tbody tr th {\n",
       "        vertical-align: top;\n",
       "    }\n",
       "\n",
       "    .dataframe thead th {\n",
       "        text-align: right;\n",
       "    }\n",
       "</style>\n",
       "<table border=\"1\" class=\"dataframe\">\n",
       "  <thead>\n",
       "    <tr style=\"text-align: right;\">\n",
       "      <th></th>\n",
       "      <th></th>\n",
       "      <th>variant_status</th>\n",
       "      <th>original_developers</th>\n",
       "      <th>common_active_maintainers</th>\n",
       "      <th>decision</th>\n",
       "    </tr>\n",
       "    <tr>\n",
       "      <th>motivation</th>\n",
       "      <th>motivation_detail</th>\n",
       "      <th></th>\n",
       "      <th></th>\n",
       "      <th></th>\n",
       "      <th></th>\n",
       "    </tr>\n",
       "  </thead>\n",
       "  <tbody>\n",
       "    <tr>\n",
       "      <th rowspan=\"3\" valign=\"top\">governance</th>\n",
       "      <th>differences</th>\n",
       "      <td>1</td>\n",
       "      <td>1</td>\n",
       "      <td>1</td>\n",
       "      <td>1</td>\n",
       "    </tr>\n",
       "    <tr>\n",
       "      <th>feature acceptance</th>\n",
       "      <td>15</td>\n",
       "      <td>15</td>\n",
       "      <td>15</td>\n",
       "      <td>15</td>\n",
       "    </tr>\n",
       "    <tr>\n",
       "      <th>responsiveness</th>\n",
       "      <td>18</td>\n",
       "      <td>18</td>\n",
       "      <td>18</td>\n",
       "      <td>18</td>\n",
       "    </tr>\n",
       "    <tr>\n",
       "      <th rowspan=\"3\" valign=\"top\">legal</th>\n",
       "      <th>closed source</th>\n",
       "      <td>1</td>\n",
       "      <td>1</td>\n",
       "      <td>1</td>\n",
       "      <td>1</td>\n",
       "    </tr>\n",
       "    <tr>\n",
       "      <th>commercial variant</th>\n",
       "      <td>1</td>\n",
       "      <td>1</td>\n",
       "      <td>1</td>\n",
       "      <td>1</td>\n",
       "    </tr>\n",
       "    <tr>\n",
       "      <th>privacy</th>\n",
       "      <td>1</td>\n",
       "      <td>1</td>\n",
       "      <td>1</td>\n",
       "      <td>1</td>\n",
       "    </tr>\n",
       "    <tr>\n",
       "      <th rowspan=\"6\" valign=\"top\">others</th>\n",
       "      <th>code quality</th>\n",
       "      <td>3</td>\n",
       "      <td>3</td>\n",
       "      <td>3</td>\n",
       "      <td>3</td>\n",
       "    </tr>\n",
       "    <tr>\n",
       "      <th>community related</th>\n",
       "      <td>3</td>\n",
       "      <td>3</td>\n",
       "      <td>3</td>\n",
       "      <td>3</td>\n",
       "    </tr>\n",
       "    <tr>\n",
       "      <th>localization</th>\n",
       "      <td>3</td>\n",
       "      <td>3</td>\n",
       "      <td>3</td>\n",
       "      <td>3</td>\n",
       "    </tr>\n",
       "    <tr>\n",
       "      <th>supporting personal projects</th>\n",
       "      <td>7</td>\n",
       "      <td>7</td>\n",
       "      <td>7</td>\n",
       "      <td>7</td>\n",
       "    </tr>\n",
       "    <tr>\n",
       "      <th>supporting upstream</th>\n",
       "      <td>7</td>\n",
       "      <td>7</td>\n",
       "      <td>7</td>\n",
       "      <td>7</td>\n",
       "    </tr>\n",
       "    <tr>\n",
       "      <th>upstream lacks the resources</th>\n",
       "      <td>1</td>\n",
       "      <td>1</td>\n",
       "      <td>1</td>\n",
       "      <td>1</td>\n",
       "    </tr>\n",
       "    <tr>\n",
       "      <th rowspan=\"9\" valign=\"top\">technical</th>\n",
       "      <th>customization</th>\n",
       "      <td>8</td>\n",
       "      <td>8</td>\n",
       "      <td>8</td>\n",
       "      <td>8</td>\n",
       "    </tr>\n",
       "    <tr>\n",
       "      <th>different goals</th>\n",
       "      <td>17</td>\n",
       "      <td>17</td>\n",
       "      <td>17</td>\n",
       "      <td>17</td>\n",
       "    </tr>\n",
       "    <tr>\n",
       "      <th>enhancement</th>\n",
       "      <td>4</td>\n",
       "      <td>4</td>\n",
       "      <td>4</td>\n",
       "      <td>4</td>\n",
       "    </tr>\n",
       "    <tr>\n",
       "      <th>feature frozen</th>\n",
       "      <td>7</td>\n",
       "      <td>7</td>\n",
       "      <td>7</td>\n",
       "      <td>7</td>\n",
       "    </tr>\n",
       "    <tr>\n",
       "      <th>maintenance</th>\n",
       "      <td>19</td>\n",
       "      <td>19</td>\n",
       "      <td>19</td>\n",
       "      <td>19</td>\n",
       "    </tr>\n",
       "    <tr>\n",
       "      <th>new features</th>\n",
       "      <td>17</td>\n",
       "      <td>17</td>\n",
       "      <td>17</td>\n",
       "      <td>17</td>\n",
       "    </tr>\n",
       "    <tr>\n",
       "      <th>new release</th>\n",
       "      <td>2</td>\n",
       "      <td>2</td>\n",
       "      <td>2</td>\n",
       "      <td>2</td>\n",
       "    </tr>\n",
       "    <tr>\n",
       "      <th>stripped version</th>\n",
       "      <td>2</td>\n",
       "      <td>2</td>\n",
       "      <td>2</td>\n",
       "      <td>2</td>\n",
       "    </tr>\n",
       "    <tr>\n",
       "      <th>technology</th>\n",
       "      <td>8</td>\n",
       "      <td>8</td>\n",
       "      <td>8</td>\n",
       "      <td>8</td>\n",
       "    </tr>\n",
       "  </tbody>\n",
       "</table>\n",
       "</div>"
      ],
      "text/plain": [
       "                                         variant_status  original_developers  \\\n",
       "motivation motivation_detail                                                   \n",
       "governance differences                                1                    1   \n",
       "           feature acceptance                        15                   15   \n",
       "           responsiveness                            18                   18   \n",
       "legal      closed source                              1                    1   \n",
       "           commercial variant                         1                    1   \n",
       "           privacy                                    1                    1   \n",
       "others     code quality                               3                    3   \n",
       "           community related                          3                    3   \n",
       "           localization                               3                    3   \n",
       "           supporting personal projects               7                    7   \n",
       "           supporting upstream                        7                    7   \n",
       "           upstream lacks the resources               1                    1   \n",
       "technical  customization                              8                    8   \n",
       "           different goals                           17                   17   \n",
       "           enhancement                                4                    4   \n",
       "           feature frozen                             7                    7   \n",
       "           maintenance                               19                   19   \n",
       "           new features                              17                   17   \n",
       "           new release                                2                    2   \n",
       "           stripped version                           2                    2   \n",
       "           technology                                 8                    8   \n",
       "\n",
       "                                         common_active_maintainers  decision  \n",
       "motivation motivation_detail                                                  \n",
       "governance differences                                           1         1  \n",
       "           feature acceptance                                   15        15  \n",
       "           responsiveness                                       18        18  \n",
       "legal      closed source                                         1         1  \n",
       "           commercial variant                                    1         1  \n",
       "           privacy                                               1         1  \n",
       "others     code quality                                          3         3  \n",
       "           community related                                     3         3  \n",
       "           localization                                          3         3  \n",
       "           supporting personal projects                          7         7  \n",
       "           supporting upstream                                   7         7  \n",
       "           upstream lacks the resources                          1         1  \n",
       "technical  customization                                         8         8  \n",
       "           different goals                                      17        17  \n",
       "           enhancement                                           4         4  \n",
       "           feature frozen                                        7         7  \n",
       "           maintenance                                          19        19  \n",
       "           new features                                         17        17  \n",
       "           new release                                           2         2  \n",
       "           stripped version                                      2         2  \n",
       "           technology                                            8         8  "
      ]
     },
     "execution_count": 18,
     "metadata": {},
     "output_type": "execute_result"
    }
   ],
   "source": [
    "df = pd.read_csv('./sankey_data_final_1_decision.csv', sep=';')\n",
    "df.groupby(['motivation','motivation_detail']).count()"
   ]
  },
  {
   "cell_type": "code",
   "execution_count": 17,
   "metadata": {},
   "outputs": [
    {
     "data": {
      "text/html": [
       "<div>\n",
       "<style scoped>\n",
       "    .dataframe tbody tr th:only-of-type {\n",
       "        vertical-align: middle;\n",
       "    }\n",
       "\n",
       "    .dataframe tbody tr th {\n",
       "        vertical-align: top;\n",
       "    }\n",
       "\n",
       "    .dataframe thead th {\n",
       "        text-align: right;\n",
       "    }\n",
       "</style>\n",
       "<table border=\"1\" class=\"dataframe\">\n",
       "  <thead>\n",
       "    <tr style=\"text-align: right;\">\n",
       "      <th></th>\n",
       "      <th>variant_status</th>\n",
       "      <th>original_developers</th>\n",
       "      <th>common_active_maintainers</th>\n",
       "      <th>decision</th>\n",
       "      <th>motivation</th>\n",
       "      <th>motivation_detail</th>\n",
       "    </tr>\n",
       "  </thead>\n",
       "  <tbody>\n",
       "    <tr>\n",
       "      <th>0</th>\n",
       "      <td>Detached</td>\n",
       "      <td>2 -- 5</td>\n",
       "      <td>yes &amp; no</td>\n",
       "      <td>community</td>\n",
       "      <td>legal</td>\n",
       "      <td>closed source</td>\n",
       "    </tr>\n",
       "    <tr>\n",
       "      <th>1</th>\n",
       "      <td>Attached</td>\n",
       "      <td>none</td>\n",
       "      <td>no</td>\n",
       "      <td>individual</td>\n",
       "      <td>others</td>\n",
       "      <td>code quality</td>\n",
       "    </tr>\n",
       "    <tr>\n",
       "      <th>2</th>\n",
       "      <td>Attached</td>\n",
       "      <td>none</td>\n",
       "      <td>no</td>\n",
       "      <td>individual</td>\n",
       "      <td>others</td>\n",
       "      <td>code quality</td>\n",
       "    </tr>\n",
       "    <tr>\n",
       "      <th>3</th>\n",
       "      <td>Detached</td>\n",
       "      <td>none</td>\n",
       "      <td>no</td>\n",
       "      <td>community</td>\n",
       "      <td>others</td>\n",
       "      <td>code quality</td>\n",
       "    </tr>\n",
       "    <tr>\n",
       "      <th>4</th>\n",
       "      <td>Attached</td>\n",
       "      <td>6 -- 10</td>\n",
       "      <td>yes</td>\n",
       "      <td>individual</td>\n",
       "      <td>others</td>\n",
       "      <td>community related</td>\n",
       "    </tr>\n",
       "    <tr>\n",
       "      <th>...</th>\n",
       "      <td>...</td>\n",
       "      <td>...</td>\n",
       "      <td>...</td>\n",
       "      <td>...</td>\n",
       "      <td>...</td>\n",
       "      <td>...</td>\n",
       "    </tr>\n",
       "    <tr>\n",
       "      <th>140</th>\n",
       "      <td>Attached</td>\n",
       "      <td>none</td>\n",
       "      <td>no</td>\n",
       "      <td>individual</td>\n",
       "      <td>technical</td>\n",
       "      <td>technology</td>\n",
       "    </tr>\n",
       "    <tr>\n",
       "      <th>141</th>\n",
       "      <td>Attached</td>\n",
       "      <td>none</td>\n",
       "      <td>yes</td>\n",
       "      <td>individual</td>\n",
       "      <td>technical</td>\n",
       "      <td>technology</td>\n",
       "    </tr>\n",
       "    <tr>\n",
       "      <th>142</th>\n",
       "      <td>Attached</td>\n",
       "      <td>none</td>\n",
       "      <td>no</td>\n",
       "      <td>individual</td>\n",
       "      <td>technical</td>\n",
       "      <td>technology</td>\n",
       "    </tr>\n",
       "    <tr>\n",
       "      <th>143</th>\n",
       "      <td>Attached</td>\n",
       "      <td>none</td>\n",
       "      <td>no</td>\n",
       "      <td>individual</td>\n",
       "      <td>technical</td>\n",
       "      <td>technology</td>\n",
       "    </tr>\n",
       "    <tr>\n",
       "      <th>144</th>\n",
       "      <td>Detached</td>\n",
       "      <td>none</td>\n",
       "      <td>no</td>\n",
       "      <td>individual</td>\n",
       "      <td>technical</td>\n",
       "      <td>technology</td>\n",
       "    </tr>\n",
       "  </tbody>\n",
       "</table>\n",
       "<p>145 rows × 6 columns</p>\n",
       "</div>"
      ],
      "text/plain": [
       "    variant_status original_developers common_active_maintainers    decision  \\\n",
       "0         Detached              2 -- 5                  yes & no   community   \n",
       "1         Attached                none                        no  individual   \n",
       "2         Attached                none                        no  individual   \n",
       "3         Detached                none                        no   community   \n",
       "4         Attached             6 -- 10                       yes  individual   \n",
       "..             ...                 ...                       ...         ...   \n",
       "140       Attached                none                        no  individual   \n",
       "141       Attached                none                       yes  individual   \n",
       "142       Attached                none                        no  individual   \n",
       "143       Attached                none                        no  individual   \n",
       "144       Detached                none                        no  individual   \n",
       "\n",
       "    motivation  motivation_detail  \n",
       "0        legal      closed source  \n",
       "1       others       code quality  \n",
       "2       others       code quality  \n",
       "3       others       code quality  \n",
       "4       others  community related  \n",
       "..         ...                ...  \n",
       "140  technical         technology  \n",
       "141  technical         technology  \n",
       "142  technical         technology  \n",
       "143  technical         technology  \n",
       "144  technical         technology  \n",
       "\n",
       "[145 rows x 6 columns]"
      ]
     },
     "execution_count": 17,
     "metadata": {},
     "output_type": "execute_result"
    }
   ],
   "source": [
    "df = pd.read_csv('./sankey_data_final_1_decision.csv', sep=';')\n",
    "df"
   ]
  },
  {
   "cell_type": "code",
   "execution_count": 10,
   "metadata": {},
   "outputs": [],
   "source": [
    "df = pd.read_csv('./sankey_data_final_1_decision.csv', sep=';')\n",
    "df['original_developers'] = (df['original_developers']\n",
    "                                   .replace({'cannot remember':'unknown'})\n",
    "                                  )\n",
    "df['motivation_detail'] = (df['motivation_detail']\n",
    "                                   .replace({'closed source':'closed source',\n",
    "                                            'commercial variant':'closed source',\n",
    "                                            'privacy':'closed source',\n",
    "                                            'feature frozen':'unmaintained feature'})\n",
    "                                  )\n",
    "len(df)"
   ]
  },
  {
   "cell_type": "code",
   "execution_count": 9,
   "metadata": {},
   "outputs": [
    {
     "name": "stdout",
     "output_type": "stream",
     "text": [
      "580 580\n"
     ]
    },
    {
     "data": {
      "application/vnd.plotly.v1+json": {
       "config": {
        "plotlyServerURL": "https://plot.ly"
       },
       "data": [
        {
         "link": {
          "source": [
           9,
           1,
           14,
           12,
           3,
           4,
           4,
           5,
           0,
           10,
           2,
           13,
           8,
           4,
           13,
           9,
           0,
           12,
           12,
           0,
           11,
           12,
           13,
           7,
           5,
           2,
           1,
           13,
           12,
           12,
           13,
           3,
           13,
           3,
           9,
           14,
           7,
           13,
           13,
           14,
           13,
           9,
           10,
           10,
           6,
           10,
           6,
           1
          ],
          "target": [
           11,
           5,
           19,
           25,
           5,
           6,
           7,
           10,
           6,
           11,
           7,
           30,
           10,
           8,
           28,
           12,
           5,
           17,
           24,
           7,
           15,
           16,
           21,
           9,
           9,
           6,
           7,
           23,
           31,
           32,
           33,
           7,
           18,
           6,
           14,
           22,
           10,
           27,
           20,
           29,
           26,
           13,
           12,
           14,
           9,
           13,
           10,
           6
          ],
          "value": [
           1,
           1,
           1,
           1,
           1,
           1,
           1,
           1,
           2,
           2,
           2,
           2,
           2,
           2,
           2,
           3,
           3,
           3,
           3,
           3,
           3,
           3,
           4,
           4,
           4,
           5,
           5,
           7,
           7,
           7,
           8,
           8,
           8,
           9,
           11,
           15,
           15,
           17,
           17,
           18,
           19,
           19,
           21,
           23,
           26,
           65,
           93,
           102
          ]
         },
         "node": {
          "label": [
           "2 -- 5",
           "none",
           "6 -- 10",
           "one",
           "unknown",
           "yes & no",
           "no",
           "yes",
           "not sure",
           "community",
           "individual",
           "legal",
           "others",
           "technical",
           "governance",
           "closed source",
           "code quality",
           "community related",
           "customization",
           "differences",
           "different goals",
           "enhancement",
           "feature acceptance",
           "unmaintained feature",
           "localization",
           "upstream lacks the resources",
           "maintenance",
           "new features",
           "new release",
           "responsiveness",
           "stripped version",
           "supporting personal projects",
           "supporting upstream",
           "technology"
          ],
          "line": {
           "color": "black",
           "width": 0.5
          },
          "pad": 15,
          "thickness": 20
         },
         "type": "sankey"
        }
       ],
       "layout": {
        "annotations": [
         {
          "align": "center",
          "font": {
           "color": "black",
           "size": 10
          },
          "showarrow": false,
          "text": "<b>original developers?</b>",
          "x": 0,
          "xref": "x",
          "y": 1.05,
          "yref": "paper"
         },
         {
          "align": "center",
          "font": {
           "color": "black",
           "size": 10
          },
          "showarrow": false,
          "text": "<b>common active maintainers?</b>",
          "x": 1,
          "xref": "x",
          "y": 1.05,
          "yref": "paper"
         },
         {
          "align": "center",
          "font": {
           "color": "black",
           "size": 10
          },
          "showarrow": false,
          "text": "<b>decision?</b>",
          "x": 2,
          "xref": "x",
          "y": 1.05,
          "yref": "paper"
         },
         {
          "align": "center",
          "font": {
           "color": "black",
           "size": 10
          },
          "showarrow": false,
          "text": "<b>motivation?</b>",
          "x": 3,
          "xref": "x",
          "y": 1.05,
          "yref": "paper"
         },
         {
          "align": "center",
          "font": {
           "color": "black",
           "size": 10
          },
          "showarrow": false,
          "text": "<b>motivation detail?</b>",
          "x": 4,
          "xref": "x",
          "y": 1.05,
          "yref": "paper"
         }
        ],
        "autosize": false,
        "font": {
         "size": 10
        },
        "height": 450,
        "plot_bgcolor": "rgba(0,0,0,0)",
        "template": {
         "data": {
          "bar": [
           {
            "error_x": {
             "color": "#2a3f5f"
            },
            "error_y": {
             "color": "#2a3f5f"
            },
            "marker": {
             "line": {
              "color": "#E5ECF6",
              "width": 0.5
             },
             "pattern": {
              "fillmode": "overlay",
              "size": 10,
              "solidity": 0.2
             }
            },
            "type": "bar"
           }
          ],
          "barpolar": [
           {
            "marker": {
             "line": {
              "color": "#E5ECF6",
              "width": 0.5
             },
             "pattern": {
              "fillmode": "overlay",
              "size": 10,
              "solidity": 0.2
             }
            },
            "type": "barpolar"
           }
          ],
          "carpet": [
           {
            "aaxis": {
             "endlinecolor": "#2a3f5f",
             "gridcolor": "white",
             "linecolor": "white",
             "minorgridcolor": "white",
             "startlinecolor": "#2a3f5f"
            },
            "baxis": {
             "endlinecolor": "#2a3f5f",
             "gridcolor": "white",
             "linecolor": "white",
             "minorgridcolor": "white",
             "startlinecolor": "#2a3f5f"
            },
            "type": "carpet"
           }
          ],
          "choropleth": [
           {
            "colorbar": {
             "outlinewidth": 0,
             "ticks": ""
            },
            "type": "choropleth"
           }
          ],
          "contour": [
           {
            "colorbar": {
             "outlinewidth": 0,
             "ticks": ""
            },
            "colorscale": [
             [
              0,
              "#0d0887"
             ],
             [
              0.1111111111111111,
              "#46039f"
             ],
             [
              0.2222222222222222,
              "#7201a8"
             ],
             [
              0.3333333333333333,
              "#9c179e"
             ],
             [
              0.4444444444444444,
              "#bd3786"
             ],
             [
              0.5555555555555556,
              "#d8576b"
             ],
             [
              0.6666666666666666,
              "#ed7953"
             ],
             [
              0.7777777777777778,
              "#fb9f3a"
             ],
             [
              0.8888888888888888,
              "#fdca26"
             ],
             [
              1,
              "#f0f921"
             ]
            ],
            "type": "contour"
           }
          ],
          "contourcarpet": [
           {
            "colorbar": {
             "outlinewidth": 0,
             "ticks": ""
            },
            "type": "contourcarpet"
           }
          ],
          "heatmap": [
           {
            "colorbar": {
             "outlinewidth": 0,
             "ticks": ""
            },
            "colorscale": [
             [
              0,
              "#0d0887"
             ],
             [
              0.1111111111111111,
              "#46039f"
             ],
             [
              0.2222222222222222,
              "#7201a8"
             ],
             [
              0.3333333333333333,
              "#9c179e"
             ],
             [
              0.4444444444444444,
              "#bd3786"
             ],
             [
              0.5555555555555556,
              "#d8576b"
             ],
             [
              0.6666666666666666,
              "#ed7953"
             ],
             [
              0.7777777777777778,
              "#fb9f3a"
             ],
             [
              0.8888888888888888,
              "#fdca26"
             ],
             [
              1,
              "#f0f921"
             ]
            ],
            "type": "heatmap"
           }
          ],
          "heatmapgl": [
           {
            "colorbar": {
             "outlinewidth": 0,
             "ticks": ""
            },
            "colorscale": [
             [
              0,
              "#0d0887"
             ],
             [
              0.1111111111111111,
              "#46039f"
             ],
             [
              0.2222222222222222,
              "#7201a8"
             ],
             [
              0.3333333333333333,
              "#9c179e"
             ],
             [
              0.4444444444444444,
              "#bd3786"
             ],
             [
              0.5555555555555556,
              "#d8576b"
             ],
             [
              0.6666666666666666,
              "#ed7953"
             ],
             [
              0.7777777777777778,
              "#fb9f3a"
             ],
             [
              0.8888888888888888,
              "#fdca26"
             ],
             [
              1,
              "#f0f921"
             ]
            ],
            "type": "heatmapgl"
           }
          ],
          "histogram": [
           {
            "marker": {
             "pattern": {
              "fillmode": "overlay",
              "size": 10,
              "solidity": 0.2
             }
            },
            "type": "histogram"
           }
          ],
          "histogram2d": [
           {
            "colorbar": {
             "outlinewidth": 0,
             "ticks": ""
            },
            "colorscale": [
             [
              0,
              "#0d0887"
             ],
             [
              0.1111111111111111,
              "#46039f"
             ],
             [
              0.2222222222222222,
              "#7201a8"
             ],
             [
              0.3333333333333333,
              "#9c179e"
             ],
             [
              0.4444444444444444,
              "#bd3786"
             ],
             [
              0.5555555555555556,
              "#d8576b"
             ],
             [
              0.6666666666666666,
              "#ed7953"
             ],
             [
              0.7777777777777778,
              "#fb9f3a"
             ],
             [
              0.8888888888888888,
              "#fdca26"
             ],
             [
              1,
              "#f0f921"
             ]
            ],
            "type": "histogram2d"
           }
          ],
          "histogram2dcontour": [
           {
            "colorbar": {
             "outlinewidth": 0,
             "ticks": ""
            },
            "colorscale": [
             [
              0,
              "#0d0887"
             ],
             [
              0.1111111111111111,
              "#46039f"
             ],
             [
              0.2222222222222222,
              "#7201a8"
             ],
             [
              0.3333333333333333,
              "#9c179e"
             ],
             [
              0.4444444444444444,
              "#bd3786"
             ],
             [
              0.5555555555555556,
              "#d8576b"
             ],
             [
              0.6666666666666666,
              "#ed7953"
             ],
             [
              0.7777777777777778,
              "#fb9f3a"
             ],
             [
              0.8888888888888888,
              "#fdca26"
             ],
             [
              1,
              "#f0f921"
             ]
            ],
            "type": "histogram2dcontour"
           }
          ],
          "mesh3d": [
           {
            "colorbar": {
             "outlinewidth": 0,
             "ticks": ""
            },
            "type": "mesh3d"
           }
          ],
          "parcoords": [
           {
            "line": {
             "colorbar": {
              "outlinewidth": 0,
              "ticks": ""
             }
            },
            "type": "parcoords"
           }
          ],
          "pie": [
           {
            "automargin": true,
            "type": "pie"
           }
          ],
          "scatter": [
           {
            "marker": {
             "colorbar": {
              "outlinewidth": 0,
              "ticks": ""
             }
            },
            "type": "scatter"
           }
          ],
          "scatter3d": [
           {
            "line": {
             "colorbar": {
              "outlinewidth": 0,
              "ticks": ""
             }
            },
            "marker": {
             "colorbar": {
              "outlinewidth": 0,
              "ticks": ""
             }
            },
            "type": "scatter3d"
           }
          ],
          "scattercarpet": [
           {
            "marker": {
             "colorbar": {
              "outlinewidth": 0,
              "ticks": ""
             }
            },
            "type": "scattercarpet"
           }
          ],
          "scattergeo": [
           {
            "marker": {
             "colorbar": {
              "outlinewidth": 0,
              "ticks": ""
             }
            },
            "type": "scattergeo"
           }
          ],
          "scattergl": [
           {
            "marker": {
             "colorbar": {
              "outlinewidth": 0,
              "ticks": ""
             }
            },
            "type": "scattergl"
           }
          ],
          "scattermapbox": [
           {
            "marker": {
             "colorbar": {
              "outlinewidth": 0,
              "ticks": ""
             }
            },
            "type": "scattermapbox"
           }
          ],
          "scatterpolar": [
           {
            "marker": {
             "colorbar": {
              "outlinewidth": 0,
              "ticks": ""
             }
            },
            "type": "scatterpolar"
           }
          ],
          "scatterpolargl": [
           {
            "marker": {
             "colorbar": {
              "outlinewidth": 0,
              "ticks": ""
             }
            },
            "type": "scatterpolargl"
           }
          ],
          "scatterternary": [
           {
            "marker": {
             "colorbar": {
              "outlinewidth": 0,
              "ticks": ""
             }
            },
            "type": "scatterternary"
           }
          ],
          "surface": [
           {
            "colorbar": {
             "outlinewidth": 0,
             "ticks": ""
            },
            "colorscale": [
             [
              0,
              "#0d0887"
             ],
             [
              0.1111111111111111,
              "#46039f"
             ],
             [
              0.2222222222222222,
              "#7201a8"
             ],
             [
              0.3333333333333333,
              "#9c179e"
             ],
             [
              0.4444444444444444,
              "#bd3786"
             ],
             [
              0.5555555555555556,
              "#d8576b"
             ],
             [
              0.6666666666666666,
              "#ed7953"
             ],
             [
              0.7777777777777778,
              "#fb9f3a"
             ],
             [
              0.8888888888888888,
              "#fdca26"
             ],
             [
              1,
              "#f0f921"
             ]
            ],
            "type": "surface"
           }
          ],
          "table": [
           {
            "cells": {
             "fill": {
              "color": "#EBF0F8"
             },
             "line": {
              "color": "white"
             }
            },
            "header": {
             "fill": {
              "color": "#C8D4E3"
             },
             "line": {
              "color": "white"
             }
            },
            "type": "table"
           }
          ]
         },
         "layout": {
          "annotationdefaults": {
           "arrowcolor": "#2a3f5f",
           "arrowhead": 0,
           "arrowwidth": 1
          },
          "autotypenumbers": "strict",
          "coloraxis": {
           "colorbar": {
            "outlinewidth": 0,
            "ticks": ""
           }
          },
          "colorscale": {
           "diverging": [
            [
             0,
             "#8e0152"
            ],
            [
             0.1,
             "#c51b7d"
            ],
            [
             0.2,
             "#de77ae"
            ],
            [
             0.3,
             "#f1b6da"
            ],
            [
             0.4,
             "#fde0ef"
            ],
            [
             0.5,
             "#f7f7f7"
            ],
            [
             0.6,
             "#e6f5d0"
            ],
            [
             0.7,
             "#b8e186"
            ],
            [
             0.8,
             "#7fbc41"
            ],
            [
             0.9,
             "#4d9221"
            ],
            [
             1,
             "#276419"
            ]
           ],
           "sequential": [
            [
             0,
             "#0d0887"
            ],
            [
             0.1111111111111111,
             "#46039f"
            ],
            [
             0.2222222222222222,
             "#7201a8"
            ],
            [
             0.3333333333333333,
             "#9c179e"
            ],
            [
             0.4444444444444444,
             "#bd3786"
            ],
            [
             0.5555555555555556,
             "#d8576b"
            ],
            [
             0.6666666666666666,
             "#ed7953"
            ],
            [
             0.7777777777777778,
             "#fb9f3a"
            ],
            [
             0.8888888888888888,
             "#fdca26"
            ],
            [
             1,
             "#f0f921"
            ]
           ],
           "sequentialminus": [
            [
             0,
             "#0d0887"
            ],
            [
             0.1111111111111111,
             "#46039f"
            ],
            [
             0.2222222222222222,
             "#7201a8"
            ],
            [
             0.3333333333333333,
             "#9c179e"
            ],
            [
             0.4444444444444444,
             "#bd3786"
            ],
            [
             0.5555555555555556,
             "#d8576b"
            ],
            [
             0.6666666666666666,
             "#ed7953"
            ],
            [
             0.7777777777777778,
             "#fb9f3a"
            ],
            [
             0.8888888888888888,
             "#fdca26"
            ],
            [
             1,
             "#f0f921"
            ]
           ]
          },
          "colorway": [
           "#636efa",
           "#EF553B",
           "#00cc96",
           "#ab63fa",
           "#FFA15A",
           "#19d3f3",
           "#FF6692",
           "#B6E880",
           "#FF97FF",
           "#FECB52"
          ],
          "font": {
           "color": "#2a3f5f"
          },
          "geo": {
           "bgcolor": "white",
           "lakecolor": "white",
           "landcolor": "#E5ECF6",
           "showlakes": true,
           "showland": true,
           "subunitcolor": "white"
          },
          "hoverlabel": {
           "align": "left"
          },
          "hovermode": "closest",
          "mapbox": {
           "style": "light"
          },
          "paper_bgcolor": "white",
          "plot_bgcolor": "#E5ECF6",
          "polar": {
           "angularaxis": {
            "gridcolor": "white",
            "linecolor": "white",
            "ticks": ""
           },
           "bgcolor": "#E5ECF6",
           "radialaxis": {
            "gridcolor": "white",
            "linecolor": "white",
            "ticks": ""
           }
          },
          "scene": {
           "xaxis": {
            "backgroundcolor": "#E5ECF6",
            "gridcolor": "white",
            "gridwidth": 2,
            "linecolor": "white",
            "showbackground": true,
            "ticks": "",
            "zerolinecolor": "white"
           },
           "yaxis": {
            "backgroundcolor": "#E5ECF6",
            "gridcolor": "white",
            "gridwidth": 2,
            "linecolor": "white",
            "showbackground": true,
            "ticks": "",
            "zerolinecolor": "white"
           },
           "zaxis": {
            "backgroundcolor": "#E5ECF6",
            "gridcolor": "white",
            "gridwidth": 2,
            "linecolor": "white",
            "showbackground": true,
            "ticks": "",
            "zerolinecolor": "white"
           }
          },
          "shapedefaults": {
           "line": {
            "color": "#2a3f5f"
           }
          },
          "ternary": {
           "aaxis": {
            "gridcolor": "white",
            "linecolor": "white",
            "ticks": ""
           },
           "baxis": {
            "gridcolor": "white",
            "linecolor": "white",
            "ticks": ""
           },
           "bgcolor": "#E5ECF6",
           "caxis": {
            "gridcolor": "white",
            "linecolor": "white",
            "ticks": ""
           }
          },
          "title": {
           "x": 0.05
          },
          "xaxis": {
           "automargin": true,
           "gridcolor": "white",
           "linecolor": "white",
           "ticks": "",
           "title": {
            "standoff": 15
           },
           "zerolinecolor": "white",
           "zerolinewidth": 2
          },
          "yaxis": {
           "automargin": true,
           "gridcolor": "white",
           "linecolor": "white",
           "ticks": "",
           "title": {
            "standoff": 15
           },
           "zerolinecolor": "white",
           "zerolinewidth": 2
          }
         }
        },
        "title": {
         "text": ""
        },
        "width": 900,
        "xaxis": {
         "showticklabels": false,
         "visible": false
        },
        "yaxis": {
         "showticklabels": false,
         "visible": false
        }
       }
      },
      "text/html": [
       "<div>                            <div id=\"3e4eec50-024b-4810-aee3-3e2f17b0e638\" class=\"plotly-graph-div\" style=\"height:450px; width:900px;\"></div>            <script type=\"text/javascript\">                require([\"plotly\"], function(Plotly) {                    window.PLOTLYENV=window.PLOTLYENV || {};                                    if (document.getElementById(\"3e4eec50-024b-4810-aee3-3e2f17b0e638\")) {                    Plotly.newPlot(                        \"3e4eec50-024b-4810-aee3-3e2f17b0e638\",                        [{\"link\":{\"source\":[9,1,14,12,3,4,4,5,0,10,2,13,8,4,13,9,0,12,12,0,11,12,13,7,5,2,1,13,12,12,13,3,13,3,9,14,7,13,13,14,13,9,10,10,6,10,6,1],\"target\":[11,5,19,25,5,6,7,10,6,11,7,30,10,8,28,12,5,17,24,7,15,16,21,9,9,6,7,23,31,32,33,7,18,6,14,22,10,27,20,29,26,13,12,14,9,13,10,6],\"value\":[1,1,1,1,1,1,1,1,2,2,2,2,2,2,2,3,3,3,3,3,3,3,4,4,4,5,5,7,7,7,8,8,8,9,11,15,15,17,17,18,19,19,21,23,26,65,93,102]},\"node\":{\"label\":[\"2 -- 5\",\"none\",\"6 -- 10\",\"one\",\"unknown\",\"yes & no\",\"no\",\"yes\",\"not sure\",\"community\",\"individual\",\"legal\",\"others\",\"technical\",\"governance\",\"closed source\",\"code quality\",\"community related\",\"customization\",\"differences\",\"different goals\",\"enhancement\",\"feature acceptance\",\"unmaintained feature\",\"localization\",\"upstream lacks the resources\",\"maintenance\",\"new features\",\"new release\",\"responsiveness\",\"stripped version\",\"supporting personal projects\",\"supporting upstream\",\"technology\"],\"line\":{\"color\":\"black\",\"width\":0.5},\"pad\":15,\"thickness\":20},\"type\":\"sankey\"}],                        {\"annotations\":[{\"align\":\"center\",\"font\":{\"color\":\"black\",\"size\":10},\"showarrow\":false,\"text\":\"<b>original developers?</b>\",\"x\":0,\"xref\":\"x\",\"y\":1.05,\"yref\":\"paper\"},{\"align\":\"center\",\"font\":{\"color\":\"black\",\"size\":10},\"showarrow\":false,\"text\":\"<b>common active maintainers?</b>\",\"x\":1,\"xref\":\"x\",\"y\":1.05,\"yref\":\"paper\"},{\"align\":\"center\",\"font\":{\"color\":\"black\",\"size\":10},\"showarrow\":false,\"text\":\"<b>decision?</b>\",\"x\":2,\"xref\":\"x\",\"y\":1.05,\"yref\":\"paper\"},{\"align\":\"center\",\"font\":{\"color\":\"black\",\"size\":10},\"showarrow\":false,\"text\":\"<b>motivation?</b>\",\"x\":3,\"xref\":\"x\",\"y\":1.05,\"yref\":\"paper\"},{\"align\":\"center\",\"font\":{\"color\":\"black\",\"size\":10},\"showarrow\":false,\"text\":\"<b>motivation detail?</b>\",\"x\":4,\"xref\":\"x\",\"y\":1.05,\"yref\":\"paper\"}],\"autosize\":false,\"font\":{\"size\":10},\"height\":450,\"plot_bgcolor\":\"rgba(0,0,0,0)\",\"template\":{\"data\":{\"bar\":[{\"error_x\":{\"color\":\"#2a3f5f\"},\"error_y\":{\"color\":\"#2a3f5f\"},\"marker\":{\"line\":{\"color\":\"#E5ECF6\",\"width\":0.5},\"pattern\":{\"fillmode\":\"overlay\",\"size\":10,\"solidity\":0.2}},\"type\":\"bar\"}],\"barpolar\":[{\"marker\":{\"line\":{\"color\":\"#E5ECF6\",\"width\":0.5},\"pattern\":{\"fillmode\":\"overlay\",\"size\":10,\"solidity\":0.2}},\"type\":\"barpolar\"}],\"carpet\":[{\"aaxis\":{\"endlinecolor\":\"#2a3f5f\",\"gridcolor\":\"white\",\"linecolor\":\"white\",\"minorgridcolor\":\"white\",\"startlinecolor\":\"#2a3f5f\"},\"baxis\":{\"endlinecolor\":\"#2a3f5f\",\"gridcolor\":\"white\",\"linecolor\":\"white\",\"minorgridcolor\":\"white\",\"startlinecolor\":\"#2a3f5f\"},\"type\":\"carpet\"}],\"choropleth\":[{\"colorbar\":{\"outlinewidth\":0,\"ticks\":\"\"},\"type\":\"choropleth\"}],\"contour\":[{\"colorbar\":{\"outlinewidth\":0,\"ticks\":\"\"},\"colorscale\":[[0.0,\"#0d0887\"],[0.1111111111111111,\"#46039f\"],[0.2222222222222222,\"#7201a8\"],[0.3333333333333333,\"#9c179e\"],[0.4444444444444444,\"#bd3786\"],[0.5555555555555556,\"#d8576b\"],[0.6666666666666666,\"#ed7953\"],[0.7777777777777778,\"#fb9f3a\"],[0.8888888888888888,\"#fdca26\"],[1.0,\"#f0f921\"]],\"type\":\"contour\"}],\"contourcarpet\":[{\"colorbar\":{\"outlinewidth\":0,\"ticks\":\"\"},\"type\":\"contourcarpet\"}],\"heatmap\":[{\"colorbar\":{\"outlinewidth\":0,\"ticks\":\"\"},\"colorscale\":[[0.0,\"#0d0887\"],[0.1111111111111111,\"#46039f\"],[0.2222222222222222,\"#7201a8\"],[0.3333333333333333,\"#9c179e\"],[0.4444444444444444,\"#bd3786\"],[0.5555555555555556,\"#d8576b\"],[0.6666666666666666,\"#ed7953\"],[0.7777777777777778,\"#fb9f3a\"],[0.8888888888888888,\"#fdca26\"],[1.0,\"#f0f921\"]],\"type\":\"heatmap\"}],\"heatmapgl\":[{\"colorbar\":{\"outlinewidth\":0,\"ticks\":\"\"},\"colorscale\":[[0.0,\"#0d0887\"],[0.1111111111111111,\"#46039f\"],[0.2222222222222222,\"#7201a8\"],[0.3333333333333333,\"#9c179e\"],[0.4444444444444444,\"#bd3786\"],[0.5555555555555556,\"#d8576b\"],[0.6666666666666666,\"#ed7953\"],[0.7777777777777778,\"#fb9f3a\"],[0.8888888888888888,\"#fdca26\"],[1.0,\"#f0f921\"]],\"type\":\"heatmapgl\"}],\"histogram\":[{\"marker\":{\"pattern\":{\"fillmode\":\"overlay\",\"size\":10,\"solidity\":0.2}},\"type\":\"histogram\"}],\"histogram2d\":[{\"colorbar\":{\"outlinewidth\":0,\"ticks\":\"\"},\"colorscale\":[[0.0,\"#0d0887\"],[0.1111111111111111,\"#46039f\"],[0.2222222222222222,\"#7201a8\"],[0.3333333333333333,\"#9c179e\"],[0.4444444444444444,\"#bd3786\"],[0.5555555555555556,\"#d8576b\"],[0.6666666666666666,\"#ed7953\"],[0.7777777777777778,\"#fb9f3a\"],[0.8888888888888888,\"#fdca26\"],[1.0,\"#f0f921\"]],\"type\":\"histogram2d\"}],\"histogram2dcontour\":[{\"colorbar\":{\"outlinewidth\":0,\"ticks\":\"\"},\"colorscale\":[[0.0,\"#0d0887\"],[0.1111111111111111,\"#46039f\"],[0.2222222222222222,\"#7201a8\"],[0.3333333333333333,\"#9c179e\"],[0.4444444444444444,\"#bd3786\"],[0.5555555555555556,\"#d8576b\"],[0.6666666666666666,\"#ed7953\"],[0.7777777777777778,\"#fb9f3a\"],[0.8888888888888888,\"#fdca26\"],[1.0,\"#f0f921\"]],\"type\":\"histogram2dcontour\"}],\"mesh3d\":[{\"colorbar\":{\"outlinewidth\":0,\"ticks\":\"\"},\"type\":\"mesh3d\"}],\"parcoords\":[{\"line\":{\"colorbar\":{\"outlinewidth\":0,\"ticks\":\"\"}},\"type\":\"parcoords\"}],\"pie\":[{\"automargin\":true,\"type\":\"pie\"}],\"scatter\":[{\"marker\":{\"colorbar\":{\"outlinewidth\":0,\"ticks\":\"\"}},\"type\":\"scatter\"}],\"scatter3d\":[{\"line\":{\"colorbar\":{\"outlinewidth\":0,\"ticks\":\"\"}},\"marker\":{\"colorbar\":{\"outlinewidth\":0,\"ticks\":\"\"}},\"type\":\"scatter3d\"}],\"scattercarpet\":[{\"marker\":{\"colorbar\":{\"outlinewidth\":0,\"ticks\":\"\"}},\"type\":\"scattercarpet\"}],\"scattergeo\":[{\"marker\":{\"colorbar\":{\"outlinewidth\":0,\"ticks\":\"\"}},\"type\":\"scattergeo\"}],\"scattergl\":[{\"marker\":{\"colorbar\":{\"outlinewidth\":0,\"ticks\":\"\"}},\"type\":\"scattergl\"}],\"scattermapbox\":[{\"marker\":{\"colorbar\":{\"outlinewidth\":0,\"ticks\":\"\"}},\"type\":\"scattermapbox\"}],\"scatterpolar\":[{\"marker\":{\"colorbar\":{\"outlinewidth\":0,\"ticks\":\"\"}},\"type\":\"scatterpolar\"}],\"scatterpolargl\":[{\"marker\":{\"colorbar\":{\"outlinewidth\":0,\"ticks\":\"\"}},\"type\":\"scatterpolargl\"}],\"scatterternary\":[{\"marker\":{\"colorbar\":{\"outlinewidth\":0,\"ticks\":\"\"}},\"type\":\"scatterternary\"}],\"surface\":[{\"colorbar\":{\"outlinewidth\":0,\"ticks\":\"\"},\"colorscale\":[[0.0,\"#0d0887\"],[0.1111111111111111,\"#46039f\"],[0.2222222222222222,\"#7201a8\"],[0.3333333333333333,\"#9c179e\"],[0.4444444444444444,\"#bd3786\"],[0.5555555555555556,\"#d8576b\"],[0.6666666666666666,\"#ed7953\"],[0.7777777777777778,\"#fb9f3a\"],[0.8888888888888888,\"#fdca26\"],[1.0,\"#f0f921\"]],\"type\":\"surface\"}],\"table\":[{\"cells\":{\"fill\":{\"color\":\"#EBF0F8\"},\"line\":{\"color\":\"white\"}},\"header\":{\"fill\":{\"color\":\"#C8D4E3\"},\"line\":{\"color\":\"white\"}},\"type\":\"table\"}]},\"layout\":{\"annotationdefaults\":{\"arrowcolor\":\"#2a3f5f\",\"arrowhead\":0,\"arrowwidth\":1},\"autotypenumbers\":\"strict\",\"coloraxis\":{\"colorbar\":{\"outlinewidth\":0,\"ticks\":\"\"}},\"colorscale\":{\"diverging\":[[0,\"#8e0152\"],[0.1,\"#c51b7d\"],[0.2,\"#de77ae\"],[0.3,\"#f1b6da\"],[0.4,\"#fde0ef\"],[0.5,\"#f7f7f7\"],[0.6,\"#e6f5d0\"],[0.7,\"#b8e186\"],[0.8,\"#7fbc41\"],[0.9,\"#4d9221\"],[1,\"#276419\"]],\"sequential\":[[0.0,\"#0d0887\"],[0.1111111111111111,\"#46039f\"],[0.2222222222222222,\"#7201a8\"],[0.3333333333333333,\"#9c179e\"],[0.4444444444444444,\"#bd3786\"],[0.5555555555555556,\"#d8576b\"],[0.6666666666666666,\"#ed7953\"],[0.7777777777777778,\"#fb9f3a\"],[0.8888888888888888,\"#fdca26\"],[1.0,\"#f0f921\"]],\"sequentialminus\":[[0.0,\"#0d0887\"],[0.1111111111111111,\"#46039f\"],[0.2222222222222222,\"#7201a8\"],[0.3333333333333333,\"#9c179e\"],[0.4444444444444444,\"#bd3786\"],[0.5555555555555556,\"#d8576b\"],[0.6666666666666666,\"#ed7953\"],[0.7777777777777778,\"#fb9f3a\"],[0.8888888888888888,\"#fdca26\"],[1.0,\"#f0f921\"]]},\"colorway\":[\"#636efa\",\"#EF553B\",\"#00cc96\",\"#ab63fa\",\"#FFA15A\",\"#19d3f3\",\"#FF6692\",\"#B6E880\",\"#FF97FF\",\"#FECB52\"],\"font\":{\"color\":\"#2a3f5f\"},\"geo\":{\"bgcolor\":\"white\",\"lakecolor\":\"white\",\"landcolor\":\"#E5ECF6\",\"showlakes\":true,\"showland\":true,\"subunitcolor\":\"white\"},\"hoverlabel\":{\"align\":\"left\"},\"hovermode\":\"closest\",\"mapbox\":{\"style\":\"light\"},\"paper_bgcolor\":\"white\",\"plot_bgcolor\":\"#E5ECF6\",\"polar\":{\"angularaxis\":{\"gridcolor\":\"white\",\"linecolor\":\"white\",\"ticks\":\"\"},\"bgcolor\":\"#E5ECF6\",\"radialaxis\":{\"gridcolor\":\"white\",\"linecolor\":\"white\",\"ticks\":\"\"}},\"scene\":{\"xaxis\":{\"backgroundcolor\":\"#E5ECF6\",\"gridcolor\":\"white\",\"gridwidth\":2,\"linecolor\":\"white\",\"showbackground\":true,\"ticks\":\"\",\"zerolinecolor\":\"white\"},\"yaxis\":{\"backgroundcolor\":\"#E5ECF6\",\"gridcolor\":\"white\",\"gridwidth\":2,\"linecolor\":\"white\",\"showbackground\":true,\"ticks\":\"\",\"zerolinecolor\":\"white\"},\"zaxis\":{\"backgroundcolor\":\"#E5ECF6\",\"gridcolor\":\"white\",\"gridwidth\":2,\"linecolor\":\"white\",\"showbackground\":true,\"ticks\":\"\",\"zerolinecolor\":\"white\"}},\"shapedefaults\":{\"line\":{\"color\":\"#2a3f5f\"}},\"ternary\":{\"aaxis\":{\"gridcolor\":\"white\",\"linecolor\":\"white\",\"ticks\":\"\"},\"baxis\":{\"gridcolor\":\"white\",\"linecolor\":\"white\",\"ticks\":\"\"},\"bgcolor\":\"#E5ECF6\",\"caxis\":{\"gridcolor\":\"white\",\"linecolor\":\"white\",\"ticks\":\"\"}},\"title\":{\"x\":0.05},\"xaxis\":{\"automargin\":true,\"gridcolor\":\"white\",\"linecolor\":\"white\",\"ticks\":\"\",\"title\":{\"standoff\":15},\"zerolinecolor\":\"white\",\"zerolinewidth\":2},\"yaxis\":{\"automargin\":true,\"gridcolor\":\"white\",\"linecolor\":\"white\",\"ticks\":\"\",\"title\":{\"standoff\":15},\"zerolinecolor\":\"white\",\"zerolinewidth\":2}}},\"title\":{\"text\":\"\"},\"width\":900,\"xaxis\":{\"showticklabels\":false,\"visible\":false},\"yaxis\":{\"showticklabels\":false,\"visible\":false}},                        {\"responsive\": true}                    ).then(function(){\n",
       "                            \n",
       "var gd = document.getElementById('3e4eec50-024b-4810-aee3-3e2f17b0e638');\n",
       "var x = new MutationObserver(function (mutations, observer) {{\n",
       "        var display = window.getComputedStyle(gd).display;\n",
       "        if (!display || display === 'none') {{\n",
       "            console.log([gd, 'removed!']);\n",
       "            Plotly.purge(gd);\n",
       "            observer.disconnect();\n",
       "        }}\n",
       "}});\n",
       "\n",
       "// Listen for the removal of the full notebook cells\n",
       "var notebookContainer = gd.closest('#notebook-container');\n",
       "if (notebookContainer) {{\n",
       "    x.observe(notebookContainer, {childList: true});\n",
       "}}\n",
       "\n",
       "// Listen for the clearing of the current output cell\n",
       "var outputEl = gd.closest('.output');\n",
       "if (outputEl) {{\n",
       "    x.observe(outputEl, {childList: true});\n",
       "}}\n",
       "\n",
       "                        })                };                });            </script>        </div>"
      ]
     },
     "metadata": {},
     "output_type": "display_data"
    }
   ],
   "source": [
    "df = pd.read_csv('./sankey_data_final_1_decision.csv', sep=';')\n",
    "df['original_developers'] = (df['original_developers']\n",
    "                                   .replace({'cannot remember':'unknown'})\n",
    "                                  )\n",
    "df['motivation_detail'] = (df['motivation_detail']\n",
    "                                   .replace({'closed source':'closed source',\n",
    "                                            'commercial variant':'closed source',\n",
    "                                            'privacy':'closed source',\n",
    "                                            'feature frozen':'unmaintained feature'})\n",
    "                                  )\n",
    "\n",
    "df = df.rename(columns={'variant_status':'variant status',\n",
    "                  'original_developers':'original developers?',\n",
    "                  'common_active_maintainers':'common active maintainers?',\n",
    "                  'decision':'decision?',\n",
    "                  'motivation':'motivation?',\n",
    "                  'motivation_detail':'motivation detail?'})\n",
    "\n",
    "df = df.drop('variant status', axis=1)\n",
    "\n",
    "\n",
    "new_cols = dict(zip(df.columns.tolist(),range(0,6)))\n",
    "df = df.rename(columns=new_cols)\n",
    "\n",
    "for col in df.columns.tolist():\n",
    "    df[col] = df[col].apply(lambda x : x.lower())\n",
    "\n",
    "sources = []\n",
    "targets= []\n",
    "labels = []\n",
    "\n",
    "for row in df.iterrows():\n",
    "    for s in df.columns.tolist():\n",
    "        for t in df.columns.tolist():\n",
    "            if (t-s == 1):\n",
    "                sources.append(row[1][s])\n",
    "                targets.append(row[1][t])\n",
    "print(len(sources), len(targets))\n",
    "\n",
    "for col in df.columns.tolist():\n",
    "    labels = labels + list(df[col].unique())\n",
    "len(labels), len(set(labels))\n",
    "\n",
    "df_ = pd.DataFrame({'source':sources, 'target':targets,'value':1})\n",
    "dict_labels = dict(zip(labels,range(0,len(labels))))\n",
    "df_.source = df_.source.replace(dict_labels)\n",
    "df_.target = df_.target.replace(dict_labels)\n",
    "\n",
    "df_ = df_.groupby(['source','target']).count().reset_index()\n",
    "\n",
    "\n",
    "# for i in range(0, len(labels)):\n",
    "#     if labels[i] in df[4].tolist():\n",
    "#         labels[i] = ''\n",
    "layout = go.Layout(\n",
    "    autosize=False,\n",
    "    width=900,\n",
    "    height=450\n",
    ")\n",
    "\n",
    "df_ = df_.sort_values(['value'])\n",
    "fig = go.Figure(layout=layout, data=[go.Sankey(\n",
    "        node = dict(\n",
    "      pad = 15,\n",
    "      thickness = 20,\n",
    "      line = dict(color = \"black\", width = 0.5),\n",
    "      label = labels\n",
    "    ),\n",
    "    link = dict(\n",
    "      source = df_.source.tolist(), # indices correspond to labels, eg A1, A2, A1, B1, ...\n",
    "      target = df_.target.tolist(),\n",
    "      value = df_.value.tolist()\n",
    "  ))])\n",
    "\n",
    "for x_coordinate, column_name in enumerate(list(new_cols.keys())):\n",
    "    fig.add_annotation(\n",
    "          x=x_coordinate,\n",
    "          y=1.05,\n",
    "          xref=\"x\",\n",
    "          yref=\"paper\",\n",
    "          text=\"<b>\"+column_name+\"</b>\",\n",
    "          showarrow=False,\n",
    "          font=dict(\n",
    "              size=10,\n",
    "              color=\"black\"\n",
    "              ),\n",
    "          align=\"center\",\n",
    "          )\n",
    "\n",
    "fig.update_layout(title_text=\"\", font_size=10, plot_bgcolor='rgba(0,0,0,0)')\n",
    "# Set the visibility OFF\n",
    "fig.update_yaxes( visible=False, showticklabels=False)\n",
    "fig.update_xaxes( visible=False, showticklabels=False)\n",
    "\n",
    "\n",
    "fig.show()\n",
    "fig.write_image(directory+\"sankey_motivations_2.pdf\")\n"
   ]
  },
  {
   "cell_type": "code",
   "execution_count": 167,
   "metadata": {},
   "outputs": [
    {
     "data": {
      "text/plain": [
       "(array([0, 1, 2, 3, 4]),\n",
       " [Text(0, 0, 'none'),\n",
       "  Text(1, 0, 'one'),\n",
       "  Text(2, 0, '2 -- 5'),\n",
       "  Text(3, 0, '6 -- 10'),\n",
       "  Text(4, 0, 'do not remember')])"
      ]
     },
     "execution_count": 167,
     "metadata": {},
     "output_type": "execute_result"
    },
    {
     "data": {
      "image/png": "[encoded data removed]",
      "text/plain": [
       "<Figure size 864x252 with 1 Axes>"
      ]
     },
     "metadata": {
      "needs_background": "light"
     },
     "output_type": "display_data"
    }
   ],
   "source": [
    "df = pd.read_csv('./common_maintainers.csv', sep=';')\n",
    "df['value'] = 1\n",
    "# df['common_active_maintainers'] = (df['common_active_maintainers']\n",
    "#                                    .replace({'yes & no':'both'})\n",
    "#                                   )\n",
    "# df['original_developers'] = (df['original_developers']\n",
    "#                                    .replace({'do not remember':'unknown'})\n",
    "#                                   )\n",
    "\n",
    "\n",
    "df_ = (df\n",
    "       .groupby(['original_developers','common_active_maintainers'])\n",
    "       .count()\n",
    "       .reset_index()\n",
    "      )\n",
    "\n",
    "df_ = (df_.merge((\n",
    "    df_\n",
    "    .groupby(['original_developers'])\n",
    "    .agg({\n",
    "        'value':sum\n",
    "    })\n",
    "    .reset_index()\n",
    "    .rename(columns={'value':'all'})),\n",
    " on = ['original_developers']\n",
    "))\n",
    "df_['prop'] = df_['value']/df_['all']\n",
    "\n",
    "df_tmp = (df_[['common_active_maintainers','original_developers','prop']]\n",
    "       .pivot_table(index=['original_developers'], columns='common_active_maintainers', values='prop')\n",
    "       .reset_index()\n",
    "       .set_index('original_developers')\n",
    "\n",
    ")\n",
    "df_tmp_2 = (df_[['common_active_maintainers','original_developers','value']]\n",
    "   .pivot_table(index=['original_developers'], columns='common_active_maintainers', values='value')\n",
    "   .reset_index()\n",
    "   .set_index('original_developers')\n",
    "                    \n",
    ")\n",
    "df_tmp = df_tmp [['yes','no','yes & no','not sure']].fillna(0).reindex([\"none\",\"one\",\"2 -- 5\", \"6 -- 10\",\"do not remember\"])\n",
    "df_tmp_2 = df_tmp_2 [['yes','no','yes & no','not sure']].fillna(0).reindex([\"none\",\"one\",\"2 -- 5\", \"6 -- 10\",\"do not remember\"])\n",
    "\n",
    "ax = df_tmp.plot.bar(stacked=True, alpha=0.8)\n",
    "ax.set(\n",
    "    xlabel='# original maintainers',\n",
    "    ylabel = '% answers',\n",
    ")\n",
    "\n",
    "def check_num(x,common,severity,df):\n",
    "    if x==0:\n",
    "        return ''\n",
    "    return str(int(df.at[severity,common]))+'\\n('+str(round(x*100,1))+'%)'\n",
    "for i, severity in enumerate([\"none\",\"one\",\"2 -- 5\", \"6 -- 10\",\"do not remember\"]):\n",
    "    no = df_tmp.at[severity,'no'] \n",
    "    not_sure = df_tmp.at[severity,'not sure']\n",
    "    yes = df_tmp.at[severity,'yes']\n",
    "    both = df_tmp.at[severity,'yes & no']\n",
    "    ax.annotate('{}'.format(check_num(yes,'yes',severity,df_tmp_2)), (i, (yes/2)), ha='center', va='center')\n",
    "    ax.annotate('{}'.format(check_num(no,'no',severity,df_tmp_2)), (i, yes+(no/2)), ha='center', va='center')\n",
    "    ax.annotate('{}'.format(check_num(both,'yes & no',severity,df_tmp_2)), (i, yes+no+(both/2)), ha='center', va='center')\n",
    "    ax.annotate('{}'.format(check_num(not_sure,'not sure',severity,df_tmp_2)), (i, 1-(not_sure/2)), ha='center', va='center')\n",
    "ax.figure.set_size_inches(12,3.5)\n",
    "ax.legend(bbox_to_anchor=(0.19, 1), title='any common active maintainers?', ncol=4)\n",
    "plt.xticks(rotation = 0)"
   ]
  },
  {
   "cell_type": "code",
   "execution_count": 20,
   "metadata": {},
   "outputs": [
    {
     "data": {
      "image/png": "[encoded data removed]",
      "text/plain": [
       "<Figure size 432x144 with 1 Axes>"
      ]
     },
     "metadata": {
      "needs_background": "light"
     },
     "output_type": "display_data"
    }
   ],
   "source": [
    "df = pd.read_csv('./individual_plots.csv', sep=';')\n",
    "df.dropna(inplace=True)\n",
    "df['value'] = 1\n",
    "\n",
    "df['original_developers'] = (df['original_developers']\n",
    "                                   .replace({'do not remember':'unknown'})\n",
    "                                  )\n",
    "df_ = (df[['original_developers','value']]\n",
    "       .groupby(['original_developers'])\n",
    "       .count()\n",
    "       .reset_index())\n",
    "\n",
    "df_['all'] = df_.value.sum()\n",
    "df_['prop'] = df_['value']*100/df_['all']\n",
    "df_ = df_.sort_values('value', ascending=False)\n",
    "\n",
    "ax = sns.barplot(x=\"prop\", \n",
    "                 y=\"original_developers\", \n",
    "                 data=df_, \n",
    "                 linewidth=1)\n",
    "ax.set_xlabel(\"percentage of respondents\")\n",
    "ax.set_ylabel('# original developers')\n",
    "ax.figure.set_size_inches(6,2)\n",
    "ax.set_xlim(0,100)\n",
    "\n",
    "position =-1\n",
    "for i, s in enumerate(df_.original_developers.tolist()):\n",
    "    prop = df_.query('original_developers == \"{}\"'.format(s)).prop.values[0]\n",
    "    value = df_.query('original_developers == \"{}\"'.format(s)).value.values[0]\n",
    "    position = position+1.0\n",
    "    ax.annotate('{} ({}%)'.format(value, round(prop,1)), (prop+9, i ), ha='center', va='center')\n",
    "    \n",
    "savefig(ax.figure, 'original_developers')\n"
   ]
  },
  {
   "cell_type": "code",
   "execution_count": 169,
   "metadata": {},
   "outputs": [
    {
     "data": {
      "image/png": "[encoded data removed]",
      "text/plain": [
       "<Figure size 432x144 with 1 Axes>"
      ]
     },
     "metadata": {
      "needs_background": "light"
     },
     "output_type": "display_data"
    }
   ],
   "source": [
    "df = pd.read_csv('./individual_plots.csv', sep=';')\n",
    "df.dropna(inplace=True)\n",
    "df['value'] = 1\n",
    "\n",
    "df_ = (df[['common_active_maintainers','value']]\n",
    "       .groupby(['common_active_maintainers'])\n",
    "       .count()\n",
    "       .reset_index())\n",
    "\n",
    "df_['all'] = df_.value.sum()\n",
    "df_['prop'] = df_['value']*100/df_['all']\n",
    "df_ = df_.sort_values('value', ascending=False)\n",
    "\n",
    "ax = sns.barplot(x=\"prop\", \n",
    "                 y=\"common_active_maintainers\", \n",
    "                 data=df_, \n",
    "                 linewidth=1)\n",
    "ax.set_xlabel(\"percentage of respondents\")\n",
    "ax.set_ylabel('# common active maintainers')\n",
    "ax.figure.set_size_inches(6,2)\n",
    "ax.set_xlim(0,100)\n",
    "\n",
    "position =-1\n",
    "for i, s in enumerate(df_.common_active_maintainers.tolist()):\n",
    "    prop = df_.query('common_active_maintainers == \"{}\"'.format(s)).prop.values[0]\n",
    "    value = df_.query('common_active_maintainers == \"{}\"'.format(s)).value.values[0]\n",
    "    position = position+1.0\n",
    "    ax.annotate('{} ({}%)'.format(value, round(prop,1)), (prop+9, i ), ha='center', va='center')\n",
    "    \n",
    "savefig(ax.figure, 'common_maintainers')\n"
   ]
  },
  {
   "cell_type": "code",
   "execution_count": 170,
   "metadata": {},
   "outputs": [
    {
     "data": {
      "image/png": "[encoded data removed]",
      "text/plain": [
       "<Figure size 432x144 with 1 Axes>"
      ]
     },
     "metadata": {
      "needs_background": "light"
     },
     "output_type": "display_data"
    }
   ],
   "source": [
    "df = pd.read_csv('./individual_plots.csv', sep=';')\n",
    "df.dropna(inplace=True)\n",
    "df['value'] = 1\n",
    "\n",
    "df_ = (df[['decision','value']]\n",
    "       .groupby(['decision'])\n",
    "       .count()\n",
    "       .reset_index())\n",
    "\n",
    "df_['all'] = df_.value.sum()\n",
    "df_['prop'] = df_['value']*100/df_['all']\n",
    "df_ = df_.sort_values('value')\n",
    "ax = sns.barplot(x=\"prop\", \n",
    "                 y=\"decision\", \n",
    "                 data=df_, \n",
    "                 linewidth=1)\n",
    "ax.set_xlabel(\"percentage of respondents\")\n",
    "ax.set_ylabel('decision')\n",
    "ax.figure.set_size_inches(6,2)\n",
    "ax.set_xlim(0,100)\n",
    "\n",
    "position =-1\n",
    "for i, s in enumerate(df_.decision.tolist()):\n",
    "    prop = df_.query('decision == \"{}\"'.format(s)).prop.values[0]\n",
    "    value = df_.query('decision == \"{}\"'.format(s)).value.values[0]\n",
    "    position = position+1.0\n",
    "    ax.annotate('{} ({}%)'.format(value, round(prop,1)), (prop+10, i ), ha='center', va='center')\n",
    "    \n",
    "savefig(ax.figure, 'decision')\n"
   ]
  },
  {
   "cell_type": "code",
   "execution_count": 208,
   "metadata": {},
   "outputs": [],
   "source": [
    "def change_xlim(ax, min_x, max_x):\n",
    "    posx = [x for x in ax.get_xticks()]\n",
    "    texts = [x.get_text() for x in ax.get_xticklabels()]\n",
    "    ticks = {x: int(t[:-1]) for x, t in sorted(zip(posx, texts))}\n",
    "    space = list(ticks.keys())[1] - list(ticks.keys())[0]\n",
    "    increment = list(ticks.values())[0] - list(ticks.values())[1]\n",
    "    cur_min = list(ticks.values())[0]\n",
    "    cur_min_pos = list(ticks.keys())[0]\n",
    "    cur_max = list(ticks.values())[-1]\n",
    "    cur_max_pos = list(ticks.keys())[-1]\n",
    "    ax.set_xlim(\n",
    "        cur_min_pos + (cur_min - min_x) * space / increment,\n",
    "        cur_max_pos - (cur_max - max_x) * space / increment + 0.001\n",
    "    )\n",
    "    ticks = [x for x in np.arange(ax.get_xlim()[0], ax.get_xlim()[1], increment)]\n",
    "    labels = [str(abs(-min_x + increment * i)) + '%' for i in range(len(ticks))]\n",
    "    ax.set_xticks(ticks)\n",
    "    ax.set_xticklabels(labels)"
   ]
  },
  {
   "cell_type": "code",
   "execution_count": 257,
   "metadata": {},
   "outputs": [
    {
     "name": "stdout",
     "output_type": "stream",
     "text": [
      "104\n"
     ]
    },
    {
     "name": "stderr",
     "output_type": "stream",
     "text": [
      "/usr/local/lib/python3.6/dist-packages/ipykernel_launcher.py:16: SettingWithCopyWarning:\n",
      "\n",
      "\n",
      "A value is trying to be set on a copy of a slice from a DataFrame.\n",
      "Try using .loc[row_indexer,col_indexer] = value instead\n",
      "\n",
      "See the caveats in the documentation: https://pandas.pydata.org/pandas-docs/stable/user_guide/indexing.html#returning-a-view-versus-a-copy\n",
      "\n",
      "/usr/local/lib/python3.6/dist-packages/ipykernel_launcher.py:17: SettingWithCopyWarning:\n",
      "\n",
      "\n",
      "A value is trying to be set on a copy of a slice from a DataFrame.\n",
      "Try using .loc[row_indexer,col_indexer] = value instead\n",
      "\n",
      "See the caveats in the documentation: https://pandas.pydata.org/pandas-docs/stable/user_guide/indexing.html#returning-a-view-versus-a-copy\n",
      "\n"
     ]
    },
    {
     "data": {
      "image/png": "[encoded data removed]",
      "text/plain": [
       "<Figure size 648x180 with 1 Axes>"
      ]
     },
     "metadata": {
      "needs_background": "light"
     },
     "output_type": "display_data"
    }
   ],
   "source": [
    "# Make sure you have some data\n",
    "df = pd.read_csv('./individual_plots.csv', sep=';')\n",
    "df.dropna(inplace=True)\n",
    "print(len(df))\n",
    "df.sample()\n",
    "data = df[['technical','governance','legal','personal','others']]\n",
    "scale = [\n",
    "     \"Strongly disagree\",\n",
    "     \"Disagree\",\n",
    "     \"Not applicable\",\n",
    "     \"Agree\",\n",
    "     \"Strongly agree\",\n",
    " ]\n",
    "# Now plot it!\n",
    "for c in data.columns:\n",
    "    data[c] = data[c].replace({'Not Applicable':'Not applicable'})\n",
    "    data[c] = data[c].replace({'Strongly Agree':'Strongly agree'})\n",
    "ax = plot_likert.plot_likert(data, scale, plot_percentage=True)\n",
    "ax.figure.set_size_inches(9,2.5)\n",
    "ax.legend(bbox_to_anchor=(1.005, 1.18), title='', ncol=5, prop={'size': 9.3})\n",
    "\n",
    "ax.set_xlabel(\"percentage of respondents\")\n",
    "change_xlim(ax, 100, 100)\n",
    "plt.xticks(fontsize= 11)\n",
    "plt.yticks(fontsize= 12)\n",
    "savefig(ax.figure, 'likert_motivations_1')\n"
   ]
  },
  {
   "cell_type": "code",
   "execution_count": 246,
   "metadata": {},
   "outputs": [
    {
     "name": "stdout",
     "output_type": "stream",
     "text": [
      "105\n"
     ]
    },
    {
     "data": {
      "image/png": "[encoded data removed]",
      "text/plain": [
       "<Figure size 540x165.6 with 1 Axes>"
      ]
     },
     "metadata": {
      "needs_background": "light"
     },
     "output_type": "display_data"
    }
   ],
   "source": [
    "df = pd.read_csv('./to_mainline.csv', sep=';')\n",
    "df.dropna(inplace=True)\n",
    "scale = ['Never', 'Rarely','Sometimes','Often','Always']\n",
    "print(len(df))\n",
    "data = df.copy()\n",
    "\n",
    "# Now plot it!\n",
    "\n",
    "ax = plot_likert.plot_likert(data, scale, plot_percentage=True)\n",
    "ax.figure.set_size_inches(7.5,2.3)\n",
    "ax.legend(bbox_to_anchor=(1, 1.19), title='', ncol=5, prop={'size': 10})\n",
    "\n",
    "ax.set_xlabel(\"percentage of respondents\")\n",
    "change_xlim(ax, 100, 50)\n",
    "\n",
    "savefig(ax.figure, 'likert_integration_to_mainline')\n"
   ]
  },
  {
   "cell_type": "code",
   "execution_count": 234,
   "metadata": {},
   "outputs": [
    {
     "name": "stdout",
     "output_type": "stream",
     "text": [
      "105\n"
     ]
    },
    {
     "data": {
      "image/png": "[encoded data removed]",
      "text/plain": [
       "<Figure size 540x165.6 with 1 Axes>"
      ]
     },
     "metadata": {
      "needs_background": "light"
     },
     "output_type": "display_data"
    }
   ],
   "source": [
    "df = pd.read_csv('./from_mainline.csv', sep=';')\n",
    "df.dropna(inplace=True)\n",
    "scale = ['Never', 'Rarely','Sometimes','Often','Always']\n",
    "print(len(df))\n",
    "data = df.copy()\n",
    "\n",
    "# Now plot it!\n",
    "\n",
    "ax = plot_likert.plot_likert(data, scale, plot_percentage=True)\n",
    "ax.figure.set_size_inches(7.5,2.3)\n",
    "ax.legend(bbox_to_anchor=(1, 1.19), title='', ncol=5, prop={'size': 10})\n",
    "ax.set_xlabel(\"percentage of respondents\")\n",
    "change_xlim(ax, 100, 50)\n",
    "savefig(ax.figure, 'likert_integration_from_mainline')\n"
   ]
  },
  {
   "cell_type": "code",
   "execution_count": 197,
   "metadata": {},
   "outputs": [
    {
     "data": {
      "image/png": "[encoded data removed]",
      "text/plain": [
       "<Figure size 576x180 with 1 Axes>"
      ]
     },
     "metadata": {
      "needs_background": "light"
     },
     "output_type": "display_data"
    }
   ],
   "source": [
    "df = pd.read_csv('./discussions_rq3.csv', sep=';')\n",
    "df.dropna(inplace=True)\n",
    "df['value'] = 1\n",
    "\n",
    "df_ = (df\n",
    "       .groupby(['discussions_rq3'])\n",
    "       .count()\n",
    "       .reset_index())\n",
    "\n",
    "df_['all'] = df_.value.sum()\n",
    "df_['prop'] = df_['value']*100/df_['all']\n",
    "df_ = df_.sort_values('value', ascending=False)\n",
    "\n",
    "ax = sns.barplot(x=\"prop\", \n",
    "                 y=\"discussions_rq3\", \n",
    "                 data=df_, \n",
    "                 #color='gray',\n",
    "                 linewidth=1)\n",
    "ax.set_xlabel(\"% responses\")\n",
    "ax.set_ylabel('')\n",
    "ax.figure.set_size_inches(8,2.5)\n",
    "ax.set_xlim(0,60)\n",
    "def round_2(prop,i):\n",
    "    if round(prop,1) % 1 ==0:\n",
    "        return int(round(prop,1))\n",
    "    return round(prop,1)\n",
    "for i, s in enumerate(df_.discussions_rq3.tolist()):\n",
    "    prop = df_.query('discussions_rq3 == \"{}\"'.format(s)).prop.values[0]\n",
    "    value = df_.query('discussions_rq3 == \"{}\"'.format(s)).value.values[0]\n",
    "    position = position+1.0\n",
    "    ax.annotate('{} ({}%)'.format(value, round_2(prop,1)), (prop+4, i), ha='center', va='center')\n",
    "ax.set_xlabel(\"percentage of respondents\")\n",
    " \n",
    "savefig(ax.figure, 'discussions_rq3_colored')\n"
   ]
  },
  {
   "cell_type": "code",
   "execution_count": 196,
   "metadata": {},
   "outputs": [
    {
     "data": {
      "image/png": "[encoded data removed]",
      "text/plain": [
       "<Figure size 432x144 with 1 Axes>"
      ]
     },
     "metadata": {
      "needs_background": "light"
     },
     "output_type": "display_data"
    }
   ],
   "source": [
    "df = pd.read_csv('./changes_to_mainline_RQ3.csv', sep=';')\n",
    "df.dropna(inplace=True)\n",
    "df['value'] = 1\n",
    "\n",
    "df['changes_to_mainline'] = df['changes_to_mainline'].replace({'changes  are out of scope':'changes are out of scope',\n",
    "                                                              'PR are suggested':'PRs are suggested',\n",
    "                                                              'PRs suggested':'PRs are suggested'})\n",
    "\n",
    "df_ = (df\n",
    "       .groupby(['changes_to_mainline'])\n",
    "       .count()\n",
    "       .reset_index())\n",
    "\n",
    "df_['all'] = df_.value.sum()\n",
    "df_['prop'] = df_['value']*100/df_['all']\n",
    "df_ = df_.sort_values('value', ascending=False)\n",
    "\n",
    "ax = sns.barplot(x=\"prop\", \n",
    "                 y=\"changes_to_mainline\", \n",
    "                 data=df_, \n",
    "                 #color='gray',\n",
    "                 linewidth=1)\n",
    "ax.set_xlabel(\"percentage of respondents\")\n",
    "ax.set_ylabel('')\n",
    "ax.figure.set_size_inches(6,2)\n",
    "ax.set_xlim(0,50)\n",
    "def round_2(prop,i):\n",
    "    if round(prop,1) % 1 ==0:\n",
    "        return int(round(prop,1))\n",
    "    return round(prop,1)\n",
    "for i, s in enumerate(df_.changes_to_mainline.tolist()):\n",
    "    prop = df_.query('changes_to_mainline == \"{}\"'.format(s)).prop.values[0]\n",
    "    value = df_.query('changes_to_mainline == \"{}\"'.format(s)).value.values[0]\n",
    "    position = position+1.0\n",
    "    ax.annotate('{} ({}%)'.format(value, round_2(prop,1)), (prop+4, i), ha='center', va='center')\n",
    "    \n",
    "savefig(ax.figure, 'changes_to_mainline')\n"
   ]
  },
  {
   "cell_type": "code",
   "execution_count": 195,
   "metadata": {},
   "outputs": [
    {
     "data": {
      "image/png": "[encoded data removed]",
      "text/plain": [
       "<Figure size 432x144 with 1 Axes>"
      ]
     },
     "metadata": {
      "needs_background": "light"
     },
     "output_type": "display_data"
    }
   ],
   "source": [
    "df = pd.read_csv('./changes_from_mainline_RQ3.csv', sep=';')\n",
    "df.dropna(inplace=True)\n",
    "df['value'] = 1\n",
    "\n",
    "df_ = (df\n",
    "       .groupby(['changes_from_mainline'])\n",
    "       .count()\n",
    "       .reset_index())\n",
    "\n",
    "df_['all'] = df_.value.sum()\n",
    "df_['prop'] = df_['value']*100/df_['all']\n",
    "df_ = df_.sort_values('value', ascending=False)\n",
    "\n",
    "ax = sns.barplot(x=\"prop\", \n",
    "                 y=\"changes_from_mainline\", \n",
    "                 data=df_, \n",
    "                 #color='gray',\n",
    "                 linewidth=1)\n",
    "ax.set_xlabel(\"percentage of respondents\")\n",
    "ax.set_ylabel('')\n",
    "ax.figure.set_size_inches(6,2)\n",
    "ax.set_xlim(0,50)\n",
    "def round_2(prop,i):\n",
    "    if round(prop,1) % 1 ==0:\n",
    "        return int(round(prop,1))\n",
    "    return round(prop,1)\n",
    "for i, s in enumerate(df_.changes_from_mainline.tolist()):\n",
    "    prop = df_.query('changes_from_mainline == \"{}\"'.format(s)).prop.values[0]\n",
    "    value = df_.query('changes_from_mainline == \"{}\"'.format(s)).value.values[0]\n",
    "    position = position+1.0\n",
    "    ax.annotate('{} ({}%)'.format(value, round_2(prop,1)), (prop+4, i), ha='center', va='center')\n",
    "    \n",
    "savefig(ax.figure, 'changes_from_mainline')\n"
   ]
  },
  {
   "cell_type": "code",
   "execution_count": null,
   "metadata": {},
   "outputs": [],
   "source": []
  }
 ],
 "metadata": {
  "kernelspec": {
   "display_name": "Python 3",
   "language": "python",
   "name": "python3"
  },
  "language_info": {
   "codemirror_mode": {
    "name": "ipython",
    "version": 3
   },
   "file_extension": ".py",
   "mimetype": "text/x-python",
   "name": "python",
   "nbconvert_exporter": "python",
   "pygments_lexer": "ipython3",
   "version": "3.6.9"
  }
 },
 "nbformat": 4,
 "nbformat_minor": 2
}
